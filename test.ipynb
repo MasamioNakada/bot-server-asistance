{
 "cells": [
  {
   "cell_type": "code",
   "execution_count": 3,
   "metadata": {},
   "outputs": [],
   "source": [
    "import requests\n",
    "from bs4 import BeautifulSoup\n",
    "import json"
   ]
  },
  {
   "cell_type": "code",
   "execution_count": 4,
   "metadata": {},
   "outputs": [],
   "source": [
    "from model import User"
   ]
  },
  {
   "cell_type": "code",
   "execution_count": 5,
   "metadata": {},
   "outputs": [],
   "source": [
    "def diagnostico_cat():\n",
    "    url_diagnostico = \"https://cpal.edu.pe/diagnostico-y-tratamiento/diagnostico/\"\n",
    "    cpal_diagnostico = requests.get(url_diagnostico)   \n",
    "    s_cpal = BeautifulSoup(cpal_diagnostico.text, 'lxml') \n",
    "    secciones = s_cpal.find_all('a', attrs={'class':'b37-linkcategoria'})\n",
    "    a = []\n",
    "    for seccion in secciones:\n",
    "        a.append(seccion.text)\n",
    "    return a"
   ]
  },
  {
   "cell_type": "code",
   "execution_count": 6,
   "metadata": {},
   "outputs": [
    {
     "data": {
      "text/plain": [
       "['Lenguaje', 'Aprendizaje', 'Habla', 'Audición', 'Psicomotricidad', 'UDAD']"
      ]
     },
     "execution_count": 6,
     "metadata": {},
     "output_type": "execute_result"
    }
   ],
   "source": [
    "diagnostico_cat()"
   ]
  },
  {
   "cell_type": "code",
   "execution_count": 7,
   "metadata": {},
   "outputs": [],
   "source": [
    "dict_func = {\n",
    "    \"diagnostico\":diagnostico_cat()\n",
    "}"
   ]
  },
  {
   "cell_type": "code",
   "execution_count": 8,
   "metadata": {},
   "outputs": [
    {
     "data": {
      "text/plain": [
       "['Lenguaje', 'Aprendizaje', 'Habla', 'Audición', 'Psicomotricidad', 'UDAD']"
      ]
     },
     "execution_count": 8,
     "metadata": {},
     "output_type": "execute_result"
    }
   ],
   "source": [
    "dict_func['diagnostico']"
   ]
  },
  {
   "cell_type": "code",
   "execution_count": 9,
   "metadata": {},
   "outputs": [],
   "source": [
    "data = json.loads(open('./01_mvp.json',mode=\"r\",encoding=\"utf-8\").read())"
   ]
  },
  {
   "cell_type": "code",
   "execution_count": 10,
   "metadata": {},
   "outputs": [
    {
     "name": "stdout",
     "output_type": "stream",
     "text": [
      "dict_keys(['tag', 'patterns', 'responses'])\n",
      "dict_keys(['tag', 'patterns', 'responses'])\n"
     ]
    }
   ],
   "source": [
    "for i in data['intents']:\n",
    "    print(i.keys())"
   ]
  },
  {
   "cell_type": "code",
   "execution_count": 11,
   "metadata": {},
   "outputs": [
    {
     "data": {
      "text/plain": [
       "'function'"
      ]
     },
     "execution_count": 11,
     "metadata": {},
     "output_type": "execute_result"
    }
   ],
   "source": [
    "def json_scan(message:str) -> str:\n",
    "    for i in data['intents']:\n",
    "        if message in i['patterns']:\n",
    "            return {'response': i['responses'],\n",
    "                    'tag': i['tag']}\n",
    "json_scan(str(2))['response']"
   ]
  },
  {
   "cell_type": "code",
   "execution_count": 12,
   "metadata": {},
   "outputs": [
    {
     "data": {
      "text/plain": [
       "\"['Lenguaje', 'Aprendizaje', 'Habla', 'Audición', 'Psicomotricidad', 'UDAD']\""
      ]
     },
     "execution_count": 12,
     "metadata": {},
     "output_type": "execute_result"
    }
   ],
   "source": [
    "message = str(2)\n",
    "def val_message(message:str):\n",
    "    r = json_scan(message)\n",
    "    if r['response'] != \"function\":\n",
    "        return r['response']\n",
    "    else:\n",
    "        return str(dict_func[r['tag']]) \n",
    "\n",
    "val_message(message)  \n",
    "    "
   ]
  },
  {
   "cell_type": "code",
   "execution_count": 57,
   "metadata": {},
   "outputs": [],
   "source": [
    "import base64\n",
    " \n",
    "with open(\"./data/gatitos.jpg\", \"rb\") as imageFile:\n",
    "    data = base64.b64encode(imageFile.read())\n"
   ]
  },
  {
   "cell_type": "code",
   "execution_count": 51,
   "metadata": {},
   "outputs": [],
   "source": [
    "with open(\"data/tiny.JPG\", \"rb\") as img:\n",
    "    data = base64.b64encode(img.read())\n"
   ]
  },
  {
   "cell_type": "code",
   "execution_count": 49,
   "metadata": {},
   "outputs": [
    {
     "data": {
      "text/plain": [
       "bytes"
      ]
     },
     "execution_count": 49,
     "metadata": {},
     "output_type": "execute_result"
    }
   ],
   "source": [
    "type(str.encode(str(data)[2:-1]))"
   ]
  },
  {
   "cell_type": "code",
   "execution_count": 58,
   "metadata": {},
   "outputs": [],
   "source": [
    "str_data =data.decode(\"utf-8\") "
   ]
  },
  {
   "cell_type": "code",
   "execution_count": 22,
   "metadata": {},
   "outputs": [
    {
     "name": "stdout",
     "output_type": "stream",
     "text": [
      "b'hello world'\n",
      "hello world\n"
     ]
    }
   ],
   "source": [
    "my_str = \"hello world\"\n",
    "my_str_as_bytes = str.encode(my_str)\n",
    "print(my_str_as_bytes) # ensure it is byte representation\n",
    "my_decoded_str = my_str_as_bytes.decode()\n",
    "print(my_decoded_str)"
   ]
  },
  {
   "cell_type": "code",
   "execution_count": 55,
   "metadata": {},
   "outputs": [],
   "source": [
    "\n",
    "\n",
    "decodeit = open('gatitos.jpeg', 'wb')\n",
    "decodeit.write(base64.b64decode((data)))\n",
    "decodeit.close()"
   ]
  },
  {
   "cell_type": "code",
   "execution_count": null,
   "metadata": {},
   "outputs": [],
   "source": [
    "'%d-%m-%Y'"
   ]
  },
  {
   "cell_type": "code",
   "execution_count": 56,
   "metadata": {},
   "outputs": [],
   "source": [
    "from datetime import datetime\n",
    "\n",
    "def get_byte_code(user:dict):\n",
    "    path = f'{user[\"user_id\"]}-{datetime.now().date().strftime(\"%d-%m-%Y\")}.jpeg'\n",
    "    decodeit = open(path, 'wb')\n",
    "    data = base64.b64decode(str.encode(user[\"message\"]))\n",
    "    decodeit.write(data)\n",
    "    decodeit.close()\n",
    "    return  path\n",
    "    \n",
    "    "
   ]
  },
  {
   "cell_type": "code",
   "execution_count": 40,
   "metadata": {},
   "outputs": [],
   "source": [
    "def byte_code_to_image(path:str) -> str:\n",
    "    with open(path, \"rb\") as imageFile:\n",
    "        data = base64.b64encode(imageFile.read())\n",
    "    return data"
   ]
  },
  {
   "cell_type": "code",
   "execution_count": 59,
   "metadata": {},
   "outputs": [],
   "source": [
    "user = {\n",
    "    \"user_id\":\"gatito\",\n",
    "    \"message\":str_data\n",
    "}"
   ]
  },
  {
   "cell_type": "code",
   "execution_count": null,
   "metadata": {},
   "outputs": [],
   "source": [
    "path  = get_byte_code(user)\n",
    "byte_code_to_image(path)"
   ]
  },
  {
   "cell_type": "markdown",
   "metadata": {},
   "source": [
    "## Bot Respuesta\n"
   ]
  },
  {
   "cell_type": "code",
   "execution_count": 1,
   "metadata": {},
   "outputs": [],
   "source": [
    "from pydantic import BaseModel, Field\n",
    "\n",
    "class User(BaseModel):\n",
    "    user_id : str = Field(\n",
    "        ...,\n",
    "        min_length=1,\n",
    "        max_length=50,\n",
    "        example='51952841852@.se'\n",
    "    )\n",
    "    message : str = Field(\n",
    "        ...,\n",
    "        example='/proceso de seleccion'\n",
    "    )"
   ]
  },
  {
   "cell_type": "code",
   "execution_count": 101,
   "metadata": {},
   "outputs": [],
   "source": [
    "masami = User\n",
    "xiomara =User\n",
    "\n",
    "masami.user_id = \"51952841852@c.us\"\n",
    "xiomara.user_id = \"51934935843@c.us\""
   ]
  },
  {
   "cell_type": "code",
   "execution_count": 3,
   "metadata": {},
   "outputs": [],
   "source": [
    "import json\n",
    "data = json.loads(open('./respuesta.json',mode=\"r\",encoding=\"utf-8\").read())"
   ]
  },
  {
   "cell_type": "code",
   "execution_count": 4,
   "metadata": {},
   "outputs": [],
   "source": [
    "dic={}\n",
    "def historial(user:User,reset=False):\n",
    "    global cuenta\n",
    "    cuenta += 1\n",
    "    dic[user.user_id] = cuenta\n",
    "    if reset:\n",
    "        cuenta = 0\n",
    "    return dic"
   ]
  },
  {
   "cell_type": "code",
   "execution_count": 6,
   "metadata": {},
   "outputs": [],
   "source": [
    "class Historial:\n",
    "    dic= {}\n",
    "\n",
    "    def add_user(self,user:User) -> dict:\n",
    "        dic[user.user_id] = [0,\"\"]\n",
    "        return dic[user.user_id]\n",
    "\n",
    "    def count(self,user:User,direccion:str = \"\" ,count=True,reset:bool =False) -> dict: \n",
    "        if count:\n",
    "            dic[user.user_id][0] += 1\n",
    "        dic[user.user_id][1] += direccion\n",
    "        if reset:\n",
    "            dic[user.user_id][0] = 0\n",
    "            dic[user.user_id][1] = \"\"\n",
    "        return dic\n",
    "    \n",
    "    def get_count(self, user:User) -> dict:\n",
    "        return dic[user.user_id]"
   ]
  },
  {
   "cell_type": "code",
   "execution_count": 7,
   "metadata": {},
   "outputs": [],
   "source": [
    "dic['51934935842@c.us'] = [0,\"\"]"
   ]
  },
  {
   "cell_type": "code",
   "execution_count": 8,
   "metadata": {},
   "outputs": [
    {
     "data": {
      "text/plain": [
       "{'51934935842@c.us': [1, 'r']}"
      ]
     },
     "execution_count": 8,
     "metadata": {},
     "output_type": "execute_result"
    }
   ],
   "source": [
    "dic['51934935842@c.us'][0] += 1\n",
    "dic['51934935842@c.us'][1] += \"r\"\n",
    "dic"
   ]
  },
  {
   "cell_type": "code",
   "execution_count": 9,
   "metadata": {},
   "outputs": [],
   "source": [
    "hist = Historial()"
   ]
  },
  {
   "cell_type": "code",
   "execution_count": 103,
   "metadata": {},
   "outputs": [],
   "source": [
    "xiomara.user_id = '51952841852@c.us'\n",
    "#masami.user_id =  '51952841852@c.us'"
   ]
  },
  {
   "cell_type": "code",
   "execution_count": 104,
   "metadata": {},
   "outputs": [
    {
     "data": {
      "text/plain": [
       "[0, '']"
      ]
     },
     "execution_count": 104,
     "metadata": {},
     "output_type": "execute_result"
    }
   ],
   "source": [
    "hist.add_user(xiomara)"
   ]
  },
  {
   "cell_type": "code",
   "execution_count": 12,
   "metadata": {},
   "outputs": [
    {
     "data": {
      "text/plain": [
       "[0, '']"
      ]
     },
     "execution_count": 12,
     "metadata": {},
     "output_type": "execute_result"
    }
   ],
   "source": [
    "hist.get_count(xiomara)"
   ]
  },
  {
   "cell_type": "code",
   "execution_count": 13,
   "metadata": {},
   "outputs": [
    {
     "data": {
      "text/plain": [
       "{'51934935842@c.us': [0, '']}"
      ]
     },
     "execution_count": 13,
     "metadata": {},
     "output_type": "execute_result"
    }
   ],
   "source": [
    "hist.count(xiomara,count=False)"
   ]
  },
  {
   "cell_type": "code",
   "execution_count": 14,
   "metadata": {},
   "outputs": [],
   "source": [
    "def start_menu(user:User) ->str:\n",
    "    menu = data[\"menu\"]\n",
    "    if user.message == \"/start\":\n",
    "        hist.count(user)\n",
    "        return menu[\"message\"]\n",
    "    else:\n",
    "        None\n",
    "\n",
    "def location(user:User) ->str:\n",
    "    location = data[\"location\"]\n",
    "    if str(hist.get_count(user)) == location['layer']:\n",
    "        if user.message == location[\"value\"]:\n",
    "            hist.count(user)\n",
    "            return location[\"message\"] \n",
    "    else:\n",
    "        None\n",
    "\n",
    "def location_surco(user:User) -> str:\n",
    "    location_surco = data[\"location_surco\"]\n",
    "    if hist.get_count(user) == int(location_surco['layer']):\n",
    "        if user.message == location_surco[\"value\"]:\n",
    "            hist.count(user)\n",
    "            return location_surco[\"message\"]\n",
    "    else:\n",
    "        None\n"
   ]
  },
  {
   "cell_type": "code",
   "execution_count": 160,
   "metadata": {},
   "outputs": [],
   "source": [
    "class SendText:\n",
    "\n",
    "    def __init__(self,user:User) -> None:\n",
    "        self.user = user\n",
    "\n",
    "    def __add_direccion(self) -> None:\n",
    "        direccion_dict = {\n",
    "        \"r\" : (\"1\",\"si\"),\n",
    "        \"l\" : (\"2\",\"no\")\n",
    "        }\n",
    "        for key in direccion_dict.keys():\n",
    "            if self.user.message != \"0\":\n",
    "                if self.user.message in direccion_dict[key]:\n",
    "                    hist.count(self.user,key)\n",
    "                    print(1,hist.get_count(self.user))\n",
    "                    return None\n",
    "                else:\n",
    "                    hist.count(self.user)\n",
    "                    print(2,hist.get_count(self.user))\n",
    "                    return None\n",
    "            else:\n",
    "                hist.count(self.user,reset=True)\n",
    "                print(3,hist.get_count(self.user))\n",
    "                hist.count(self.user)\n",
    "                return None\n",
    "\n",
    "    def tree_desicion(self) -> str:\n",
    "        data = json.loads(open('./respuesta.json',mode=\"r\",encoding=\"utf-8\").read())\n",
    "        \n",
    "        for cat in data.keys():\n",
    "            category = data[cat]\n",
    "            if self.user.message == \"0\":\n",
    "                hist.count(self.user,reset = True)\n",
    "                \n",
    "            if str(hist.get_count(self.user)[0]) == category[\"layer\"]:\n",
    "                if str(hist.get_count(self.user)[1] == category[\"direccion\"]):\n",
    "                    if self.user.message in category[\"value\"]:\n",
    "                        self.__add_direccion()\n",
    "                        return category[\"message\"]"
   ]
  },
  {
   "cell_type": "code",
   "execution_count": 161,
   "metadata": {},
   "outputs": [
    {
     "name": "stdout",
     "output_type": "stream",
     "text": [
      "{'id': '51934935842@c.us', 'message': '1'}\n"
     ]
    }
   ],
   "source": [
    "print({\"id\":xiomara.user_id,\n",
    "\"message\":xiomara.message})\n"
   ]
  },
  {
   "cell_type": "code",
   "execution_count": 162,
   "metadata": {},
   "outputs": [
    {
     "data": {
      "text/plain": [
       "{'51934935842@c.us': [0, ''],\n",
       " '51934935843@c.us': [0, ''],\n",
       " '51952841852@c.us': [0, '']}"
      ]
     },
     "execution_count": 162,
     "metadata": {},
     "output_type": "execute_result"
    }
   ],
   "source": [
    "hist.count(xiomara,reset = True)"
   ]
  },
  {
   "cell_type": "code",
   "execution_count": 30,
   "metadata": {},
   "outputs": [
    {
     "data": {
      "text/plain": [
       "{'51934935842@c.us': [4, 'rrrr']}"
      ]
     },
     "execution_count": 30,
     "metadata": {},
     "output_type": "execute_result"
    }
   ],
   "source": [
    "hist.count(xiomara,'r')"
   ]
  },
  {
   "cell_type": "code",
   "execution_count": 165,
   "metadata": {},
   "outputs": [],
   "source": [
    "xiomara.message = \"1\"\n",
    "xiomara.user_id = \"51934935842@c.us\""
   ]
  },
  {
   "cell_type": "code",
   "execution_count": 113,
   "metadata": {},
   "outputs": [],
   "source": [
    "sendText = SendText(xiomara)\n"
   ]
  },
  {
   "cell_type": "code",
   "execution_count": 166,
   "metadata": {},
   "outputs": [
    {
     "name": "stdout",
     "output_type": "stream",
     "text": [
      "None\n"
     ]
    }
   ],
   "source": [
    "print(sendText.tree_desicion())"
   ]
  },
  {
   "cell_type": "code",
   "execution_count": 159,
   "metadata": {},
   "outputs": [
    {
     "data": {
      "text/plain": [
       "{'51934935842@c.us': [4, 'r'],\n",
       " '51934935843@c.us': [0, ''],\n",
       " '51952841852@c.us': [0, '']}"
      ]
     },
     "execution_count": 159,
     "metadata": {},
     "output_type": "execute_result"
    }
   ],
   "source": [
    "hist.count(xiomara)"
   ]
  },
  {
   "cell_type": "code",
   "execution_count": 154,
   "metadata": {},
   "outputs": [
    {
     "data": {
      "text/plain": [
       "[0, '']"
      ]
     },
     "execution_count": 154,
     "metadata": {},
     "output_type": "execute_result"
    }
   ],
   "source": [
    "hist.get_count(xiomara)"
   ]
  },
  {
   "cell_type": "code",
   "execution_count": 1,
   "metadata": {},
   "outputs": [],
   "source": [
    "from pydantic import BaseModel, Field\n",
    "import json\n",
    "\n",
    "class User(BaseModel):\n",
    "    user_id : str = Field(\n",
    "        ...,\n",
    "        min_length=1,\n",
    "        max_length=50,\n",
    "        example='51952841852@.se'\n",
    "    )\n",
    "    message : str = Field(\n",
    "        ...,\n",
    "        example='/proceso de seleccion'\n",
    "    )\n",
    "\n",
    "xiomara =User\n",
    "xiomara.user_id = \"51934935843@c.us\"\n",
    "\n",
    "class Historial:\n",
    "\n",
    "    def __init__(self) -> None:\n",
    "        self.dic = {}\n",
    "    \n",
    "    def add_user(self,user:User) -> dict:\n",
    "        self.dic[user.user_id] = [0,\"\"]\n",
    "        return self.dic[user.user_id]\n",
    "\n",
    "    def count(self,user:User,direccion:str = \"\" ,count=True,reset:bool =False) -> dict: \n",
    "        if count:\n",
    "            self.dic[user.user_id][0] += 1\n",
    "        self.dic[user.user_id][1] += direccion\n",
    "        if reset:\n",
    "            self.dic[user.user_id][0] = 0\n",
    "            self.dic[user.user_id][1] = \"\"\n",
    "        return self.dic\n",
    "    \n",
    "    def get_count(self, user:User) -> dict:\n",
    "        return self.dic[user.user_id]\n",
    "\n",
    "hist = Historial()\n",
    "\n",
    "class SendText:\n",
    "\n",
    "    def __init__(self,user:User,hist:Historial) -> None:\n",
    "        self.user = user\n",
    "        self.hist = hist\n",
    "        hist.add_user(self.user)\n",
    "\n",
    "\n",
    "    def __add_direccion(self) -> None:\n",
    "        direccion_dict = {\n",
    "        \"l\" : (\"1\",\"si\"),\n",
    "        \"r\" : (\"2\",\"no\")\n",
    "        }\n",
    "        for key in direccion_dict.keys():\n",
    "            if self.user.message != \"0\":\n",
    "                if self.user.message in direccion_dict[key]:\n",
    "                    self.hist.count(self.user,key)\n",
    "                    return None\n",
    "                else:\n",
    "                    self.hist.count(self.user)\n",
    "                    return None\n",
    "            else:\n",
    "                self.hist.count(self.user,reset=True)\n",
    "                self.hist.count(self.user)\n",
    "                return None\n",
    "\n",
    "    def tree_desicion(self) -> str:\n",
    "        data = json.loads(open('./respuesta.json',mode=\"r\",encoding=\"utf-8\").read())\n",
    "        self.__add_direccion()\n",
    "        print(\"debug\",self.hist.get_count(self.user))\n",
    "        for cat in data.keys():\n",
    "            category = data[cat]\n",
    "            if self.user.message == \"0\":\n",
    "                self.hist.count(self.user,reset = True)\n",
    "                self.hist.count(self.user)\n",
    "\n",
    "            if str(self.hist.get_count(self.user)[0]) == category[\"layer\"]:\n",
    "                if str(self.hist.get_count(self.user)[1] == category[\"direccion\"]):\n",
    "                    if self.user.message in category[\"value\"]:\n",
    "                        return category[\"message\"]"
   ]
  },
  {
   "cell_type": "code",
   "execution_count": 41,
   "metadata": {},
   "outputs": [
    {
     "data": {
      "text/plain": [
       "{'51934935843@c.us': [2, 'll']}"
      ]
     },
     "execution_count": 41,
     "metadata": {},
     "output_type": "execute_result"
    }
   ],
   "source": [
    "hist.count(xiomara,\"l\")"
   ]
  },
  {
   "cell_type": "code",
   "execution_count": 42,
   "metadata": {},
   "outputs": [
    {
     "name": "stdout",
     "output_type": "stream",
     "text": [
      "{'id': '51934935843@c.us', 'message': '1'}\n",
      "[2, 'll']\n",
      "2 [1, 'l']\n",
      "debug [1, 'l']\n",
      "[1, 'l']\n",
      "Contamos con dos locales:\n",
      "\n",
      "1. *Surco*: Martín Pizarro 172 Urb. Valle Hermoso, Surco, Lima 33 - Perú\n",
      "2. *Madgalena*: Av. Pershing 910, Magdalena, Lima 17 - Perú\n"
     ]
    }
   ],
   "source": [
    "xiomara.message = \"1\"\n",
    "\n",
    "print({\"id\":xiomara.user_id,\n",
    "\"message\":xiomara.message})\n",
    "print(hist.get_count(xiomara))\n",
    "\n",
    "sendText = SendText(xiomara,hist)\n",
    "print(sendText.tree_desicion())"
   ]
  }
 ],
 "metadata": {
  "kernelspec": {
   "display_name": "Python 3.9.12 ('base')",
   "language": "python",
   "name": "python3"
  },
  "language_info": {
   "codemirror_mode": {
    "name": "ipython",
    "version": 3
   },
   "file_extension": ".py",
   "mimetype": "text/x-python",
   "name": "python",
   "nbconvert_exporter": "python",
   "pygments_lexer": "ipython3",
   "version": "3.9.12"
  },
  "orig_nbformat": 4,
  "vscode": {
   "interpreter": {
    "hash": "4c6b9d4ed2a07bbca30b882861c661e078421cec4e51290af7d4840971f56ca6"
   }
  }
 },
 "nbformat": 4,
 "nbformat_minor": 2
}
